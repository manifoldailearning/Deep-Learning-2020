{
  "nbformat": 4,
  "nbformat_minor": 0,
  "metadata": {
    "colab": {
      "name": "Class 8 : Text Classification using Tensorflow.ipynb",
      "provenance": [],
      "collapsed_sections": [],
      "authorship_tag": "ABX9TyOfuDAUCGSSV2U1SqfAL2+K",
      "include_colab_link": true
    },
    "kernelspec": {
      "name": "python3",
      "display_name": "Python 3"
    }
  },
  "cells": [
    {
      "cell_type": "markdown",
      "metadata": {
        "id": "view-in-github",
        "colab_type": "text"
      },
      "source": [
        "<a href=\"https://colab.research.google.com/github/manifoldailearning/Deep-Learning-2020/blob/master/Class_8_Text_Classification_using_Tensorflow.ipynb\" target=\"_parent\"><img src=\"https://colab.research.google.com/assets/colab-badge.svg\" alt=\"Open In Colab\"/></a>"
      ]
    },
    {
      "cell_type": "markdown",
      "metadata": {
        "id": "H3uTbrrfTocI",
        "colab_type": "text"
      },
      "source": [
        "Checkout the Video at : https://youtu.be/9wrgq6bq_kc"
      ]
    },
    {
      "cell_type": "code",
      "metadata": {
        "id": "9GLu4rtLrfWH",
        "colab_type": "code",
        "colab": {}
      },
      "source": [
        "import tensorflow as tf\n",
        "import numpy as np\n",
        "import matplotlib.pyplot as plt"
      ],
      "execution_count": null,
      "outputs": []
    },
    {
      "cell_type": "markdown",
      "metadata": {
        "id": "kEZDtr6_mkPh",
        "colab_type": "text"
      },
      "source": [
        "## Importing the Dataset"
      ]
    },
    {
      "cell_type": "code",
      "metadata": {
        "id": "D9nezA6gsTMa",
        "colab_type": "code",
        "colab": {
          "base_uri": "https://localhost:8080/",
          "height": 50
        },
        "outputId": "a1a279d2-380d-4ce1-8410-60db7177e05a"
      },
      "source": [
        "from tensorflow.keras.datasets import imdb\n",
        "(train_data,train_labels),(test_data,test_labels) = imdb.load_data(num_words=10000)"
      ],
      "execution_count": null,
      "outputs": [
        {
          "output_type": "stream",
          "text": [
            "Downloading data from https://storage.googleapis.com/tensorflow/tf-keras-datasets/imdb.npz\n",
            "17465344/17464789 [==============================] - 1s 0us/step\n"
          ],
          "name": "stdout"
        }
      ]
    },
    {
      "cell_type": "markdown",
      "metadata": {
        "id": "D61v6PwzmxOI",
        "colab_type": "text"
      },
      "source": [
        "https://www.tensorflow.org/api_docs/python/tf/keras/datasets/imdb/load_data"
      ]
    },
    {
      "cell_type": "code",
      "metadata": {
        "id": "SRMDfIY9sTJc",
        "colab_type": "code",
        "colab": {
          "base_uri": "https://localhost:8080/",
          "height": 34
        },
        "outputId": "587f1f55-0080-47ed-ee2a-d437ca468202"
      },
      "source": [
        "train_data.shape, test_data.shape"
      ],
      "execution_count": null,
      "outputs": [
        {
          "output_type": "execute_result",
          "data": {
            "text/plain": [
              "((25000,), (25000,))"
            ]
          },
          "metadata": {
            "tags": []
          },
          "execution_count": 4
        }
      ]
    },
    {
      "cell_type": "code",
      "metadata": {
        "id": "pwJT2WqWsTGb",
        "colab_type": "code",
        "colab": {
          "base_uri": "https://localhost:8080/",
          "height": 34
        },
        "outputId": "a7526ad7-bed5-4c05-fbaa-10d6e0a00a10"
      },
      "source": [
        "train_labels.shape"
      ],
      "execution_count": null,
      "outputs": [
        {
          "output_type": "execute_result",
          "data": {
            "text/plain": [
              "(25000,)"
            ]
          },
          "metadata": {
            "tags": []
          },
          "execution_count": 4
        }
      ]
    },
    {
      "cell_type": "code",
      "metadata": {
        "id": "KNFTGEAbsTDX",
        "colab_type": "code",
        "colab": {
          "base_uri": "https://localhost:8080/",
          "height": 1000
        },
        "outputId": "772c9377-f34f-467f-cc35-0e04bdf78bf8"
      },
      "source": [
        "train_data[0]"
      ],
      "execution_count": null,
      "outputs": [
        {
          "output_type": "execute_result",
          "data": {
            "text/plain": [
              "[1,\n",
              " 14,\n",
              " 22,\n",
              " 16,\n",
              " 43,\n",
              " 530,\n",
              " 973,\n",
              " 1622,\n",
              " 1385,\n",
              " 65,\n",
              " 458,\n",
              " 4468,\n",
              " 66,\n",
              " 3941,\n",
              " 4,\n",
              " 173,\n",
              " 36,\n",
              " 256,\n",
              " 5,\n",
              " 25,\n",
              " 100,\n",
              " 43,\n",
              " 838,\n",
              " 112,\n",
              " 50,\n",
              " 670,\n",
              " 2,\n",
              " 9,\n",
              " 35,\n",
              " 480,\n",
              " 284,\n",
              " 5,\n",
              " 150,\n",
              " 4,\n",
              " 172,\n",
              " 112,\n",
              " 167,\n",
              " 2,\n",
              " 336,\n",
              " 385,\n",
              " 39,\n",
              " 4,\n",
              " 172,\n",
              " 4536,\n",
              " 1111,\n",
              " 17,\n",
              " 546,\n",
              " 38,\n",
              " 13,\n",
              " 447,\n",
              " 4,\n",
              " 192,\n",
              " 50,\n",
              " 16,\n",
              " 6,\n",
              " 147,\n",
              " 2025,\n",
              " 19,\n",
              " 14,\n",
              " 22,\n",
              " 4,\n",
              " 1920,\n",
              " 4613,\n",
              " 469,\n",
              " 4,\n",
              " 22,\n",
              " 71,\n",
              " 87,\n",
              " 12,\n",
              " 16,\n",
              " 43,\n",
              " 530,\n",
              " 38,\n",
              " 76,\n",
              " 15,\n",
              " 13,\n",
              " 1247,\n",
              " 4,\n",
              " 22,\n",
              " 17,\n",
              " 515,\n",
              " 17,\n",
              " 12,\n",
              " 16,\n",
              " 626,\n",
              " 18,\n",
              " 2,\n",
              " 5,\n",
              " 62,\n",
              " 386,\n",
              " 12,\n",
              " 8,\n",
              " 316,\n",
              " 8,\n",
              " 106,\n",
              " 5,\n",
              " 4,\n",
              " 2223,\n",
              " 5244,\n",
              " 16,\n",
              " 480,\n",
              " 66,\n",
              " 3785,\n",
              " 33,\n",
              " 4,\n",
              " 130,\n",
              " 12,\n",
              " 16,\n",
              " 38,\n",
              " 619,\n",
              " 5,\n",
              " 25,\n",
              " 124,\n",
              " 51,\n",
              " 36,\n",
              " 135,\n",
              " 48,\n",
              " 25,\n",
              " 1415,\n",
              " 33,\n",
              " 6,\n",
              " 22,\n",
              " 12,\n",
              " 215,\n",
              " 28,\n",
              " 77,\n",
              " 52,\n",
              " 5,\n",
              " 14,\n",
              " 407,\n",
              " 16,\n",
              " 82,\n",
              " 2,\n",
              " 8,\n",
              " 4,\n",
              " 107,\n",
              " 117,\n",
              " 5952,\n",
              " 15,\n",
              " 256,\n",
              " 4,\n",
              " 2,\n",
              " 7,\n",
              " 3766,\n",
              " 5,\n",
              " 723,\n",
              " 36,\n",
              " 71,\n",
              " 43,\n",
              " 530,\n",
              " 476,\n",
              " 26,\n",
              " 400,\n",
              " 317,\n",
              " 46,\n",
              " 7,\n",
              " 4,\n",
              " 2,\n",
              " 1029,\n",
              " 13,\n",
              " 104,\n",
              " 88,\n",
              " 4,\n",
              " 381,\n",
              " 15,\n",
              " 297,\n",
              " 98,\n",
              " 32,\n",
              " 2071,\n",
              " 56,\n",
              " 26,\n",
              " 141,\n",
              " 6,\n",
              " 194,\n",
              " 7486,\n",
              " 18,\n",
              " 4,\n",
              " 226,\n",
              " 22,\n",
              " 21,\n",
              " 134,\n",
              " 476,\n",
              " 26,\n",
              " 480,\n",
              " 5,\n",
              " 144,\n",
              " 30,\n",
              " 5535,\n",
              " 18,\n",
              " 51,\n",
              " 36,\n",
              " 28,\n",
              " 224,\n",
              " 92,\n",
              " 25,\n",
              " 104,\n",
              " 4,\n",
              " 226,\n",
              " 65,\n",
              " 16,\n",
              " 38,\n",
              " 1334,\n",
              " 88,\n",
              " 12,\n",
              " 16,\n",
              " 283,\n",
              " 5,\n",
              " 16,\n",
              " 4472,\n",
              " 113,\n",
              " 103,\n",
              " 32,\n",
              " 15,\n",
              " 16,\n",
              " 5345,\n",
              " 19,\n",
              " 178,\n",
              " 32]"
            ]
          },
          "metadata": {
            "tags": []
          },
          "execution_count": 5
        }
      ]
    },
    {
      "cell_type": "code",
      "metadata": {
        "id": "dhXVnr9OsTAg",
        "colab_type": "code",
        "colab": {
          "base_uri": "https://localhost:8080/",
          "height": 34
        },
        "outputId": "82b976b4-6c1c-4fdb-b2f4-6f8cf45d1520"
      },
      "source": [
        "train_labels[0]"
      ],
      "execution_count": null,
      "outputs": [
        {
          "output_type": "execute_result",
          "data": {
            "text/plain": [
              "1"
            ]
          },
          "metadata": {
            "tags": []
          },
          "execution_count": 6
        }
      ]
    },
    {
      "cell_type": "code",
      "metadata": {
        "id": "hDR3blHgsS93",
        "colab_type": "code",
        "colab": {
          "base_uri": "https://localhost:8080/",
          "height": 34
        },
        "outputId": "d598f2de-f018-4ece-bb54-7c19b645c102"
      },
      "source": [
        "train_labels[1]"
      ],
      "execution_count": null,
      "outputs": [
        {
          "output_type": "execute_result",
          "data": {
            "text/plain": [
              "0"
            ]
          },
          "metadata": {
            "tags": []
          },
          "execution_count": 7
        }
      ]
    },
    {
      "cell_type": "markdown",
      "metadata": {
        "id": "C2qXhbAQo-AD",
        "colab_type": "text"
      },
      "source": [
        "## Word Index"
      ]
    },
    {
      "cell_type": "code",
      "metadata": {
        "id": "ij3-1fcLsS67",
        "colab_type": "code",
        "colab": {}
      },
      "source": [
        "word_index = imdb.get_word_index()\n",
        "word_index"
      ],
      "execution_count": null,
      "outputs": []
    },
    {
      "cell_type": "code",
      "metadata": {
        "id": "jHf7KKgOsS4M",
        "colab_type": "code",
        "colab": {
          "base_uri": "https://localhost:8080/",
          "height": 34
        },
        "outputId": "e6a5212b-cf5c-42ad-ab03-f896010c2567"
      },
      "source": [
        "len(word_index)"
      ],
      "execution_count": null,
      "outputs": [
        {
          "output_type": "execute_result",
          "data": {
            "text/plain": [
              "88584"
            ]
          },
          "metadata": {
            "tags": []
          },
          "execution_count": 9
        }
      ]
    },
    {
      "cell_type": "code",
      "metadata": {
        "id": "M9iaedo2xIg_",
        "colab_type": "code",
        "colab": {}
      },
      "source": [
        "train_data[0]"
      ],
      "execution_count": null,
      "outputs": []
    },
    {
      "cell_type": "markdown",
      "metadata": {
        "id": "uqMGcH7MpA0j",
        "colab_type": "text"
      },
      "source": [
        "### Text Transformation"
      ]
    },
    {
      "cell_type": "code",
      "metadata": {
        "id": "2PrHPDvWsS1p",
        "colab_type": "code",
        "colab": {}
      },
      "source": [
        "def oh_representations(sequences,dim = 10000):\n",
        "  results = np.zeros((len(sequences),dim))\n",
        "  for i,sequence in enumerate(sequences):\n",
        "    results[i,sequence] = 1\n",
        "  return results"
      ],
      "execution_count": null,
      "outputs": []
    },
    {
      "cell_type": "code",
      "metadata": {
        "id": "XR9t83xKsSy3",
        "colab_type": "code",
        "colab": {}
      },
      "source": [
        "def oh_representations_test(sequences,dim = 8):\n",
        "  results = np.zeros((len(sequences),dim))\n",
        "  for i,sequence in enumerate(sequences):\n",
        "    results[i,sequence] = 1\n",
        "  return results"
      ],
      "execution_count": null,
      "outputs": []
    },
    {
      "cell_type": "code",
      "metadata": {
        "id": "qixpw-cpsSvz",
        "colab_type": "code",
        "colab": {}
      },
      "source": [
        "ex_data = [1,2,3,4,4,5,6,2]"
      ],
      "execution_count": null,
      "outputs": []
    },
    {
      "cell_type": "code",
      "metadata": {
        "id": "3DsCLbtvsSsd",
        "colab_type": "code",
        "colab": {
          "base_uri": "https://localhost:8080/",
          "height": 151
        },
        "outputId": "ca43ede9-e7fc-4c00-8cfb-2757a7d27198"
      },
      "source": [
        "oh_representations_test(ex_data)"
      ],
      "execution_count": null,
      "outputs": [
        {
          "output_type": "execute_result",
          "data": {
            "text/plain": [
              "array([[0., 1., 0., 0., 0., 0., 0., 0.],\n",
              "       [0., 0., 1., 0., 0., 0., 0., 0.],\n",
              "       [0., 0., 0., 1., 0., 0., 0., 0.],\n",
              "       [0., 0., 0., 0., 1., 0., 0., 0.],\n",
              "       [0., 0., 0., 0., 1., 0., 0., 0.],\n",
              "       [0., 0., 0., 0., 0., 1., 0., 0.],\n",
              "       [0., 0., 0., 0., 0., 0., 1., 0.],\n",
              "       [0., 0., 1., 0., 0., 0., 0., 0.]])"
            ]
          },
          "metadata": {
            "tags": []
          },
          "execution_count": 11
        }
      ]
    },
    {
      "cell_type": "code",
      "metadata": {
        "id": "ueJMSFMQxg6Y",
        "colab_type": "code",
        "colab": {
          "base_uri": "https://localhost:8080/",
          "height": 34
        },
        "outputId": "41ee6fc5-8606-47ae-ea02-68607bad3d2d"
      },
      "source": [
        "result = oh_representations(train_data)\n",
        "result.shape"
      ],
      "execution_count": null,
      "outputs": [
        {
          "output_type": "execute_result",
          "data": {
            "text/plain": [
              "(25000, 10000)"
            ]
          },
          "metadata": {
            "tags": []
          },
          "execution_count": 12
        }
      ]
    },
    {
      "cell_type": "code",
      "metadata": {
        "id": "WnamJcPByosB",
        "colab_type": "code",
        "colab": {
          "base_uri": "https://localhost:8080/",
          "height": 34
        },
        "outputId": "e159b95b-3a35-445f-8d38-a84be604a1c4"
      },
      "source": [
        "result[0].shape"
      ],
      "execution_count": null,
      "outputs": [
        {
          "output_type": "execute_result",
          "data": {
            "text/plain": [
              "(10000,)"
            ]
          },
          "metadata": {
            "tags": []
          },
          "execution_count": 16
        }
      ]
    },
    {
      "cell_type": "code",
      "metadata": {
        "id": "hAhL6dbuzNQ2",
        "colab_type": "code",
        "colab": {}
      },
      "source": [
        "from tensorflow.keras import models,layers"
      ],
      "execution_count": null,
      "outputs": []
    },
    {
      "cell_type": "code",
      "metadata": {
        "id": "Kdvghs3HzeMN",
        "colab_type": "code",
        "colab": {}
      },
      "source": [
        "network = models.Sequential()\n",
        "network.add(layers.Dense(16,activation=\"relu\",input_shape=(10000,)))\n",
        "network.add(layers.Dense(16,activation=\"relu\"))\n",
        "network.add(layers.Dense(1,activation=\"sigmoid\"))"
      ],
      "execution_count": null,
      "outputs": []
    },
    {
      "cell_type": "code",
      "metadata": {
        "id": "6ZOuCCEez9_3",
        "colab_type": "code",
        "colab": {}
      },
      "source": [
        "network.compile(optimizer = \"rmsprop\",\n",
        "                loss = \"binary_crossentropy\",\n",
        "                metrics = \"accuracy\")"
      ],
      "execution_count": null,
      "outputs": []
    },
    {
      "cell_type": "code",
      "metadata": {
        "id": "Hblf5W_E0TQm",
        "colab_type": "code",
        "colab": {}
      },
      "source": [
        "X_train = oh_representations(train_data)\n",
        "X_test = oh_representations(test_data)"
      ],
      "execution_count": null,
      "outputs": []
    },
    {
      "cell_type": "code",
      "metadata": {
        "id": "OmN7jvrn0KIR",
        "colab_type": "code",
        "colab": {}
      },
      "source": [
        "x_val = X_train[:10000]\n",
        "x_partial_train = X_train[10000:]\n",
        "y_val = train_labels[:10000]\n",
        "y_partial_train = train_labels[10000:]"
      ],
      "execution_count": null,
      "outputs": []
    },
    {
      "cell_type": "code",
      "metadata": {
        "id": "NzUwgutT0qqt",
        "colab_type": "code",
        "colab": {
          "base_uri": "https://localhost:8080/",
          "height": 521
        },
        "outputId": "63b26332-21f1-4f02-81e7-af0e5760539d"
      },
      "source": [
        "history = network.fit(x_partial_train,\n",
        "                      y_partial_train,\n",
        "                      epochs=15,\n",
        "                      batch_size=512,\n",
        "                      validation_data = (x_val,y_val))"
      ],
      "execution_count": null,
      "outputs": [
        {
          "output_type": "stream",
          "text": [
            "Epoch 1/15\n",
            "30/30 [==============================] - 1s 48ms/step - loss: 0.5111 - accuracy: 0.7884 - val_loss: 0.3857 - val_accuracy: 0.8680\n",
            "Epoch 2/15\n",
            "30/30 [==============================] - 1s 34ms/step - loss: 0.3029 - accuracy: 0.9012 - val_loss: 0.3022 - val_accuracy: 0.8881\n",
            "Epoch 3/15\n",
            "30/30 [==============================] - 1s 34ms/step - loss: 0.2228 - accuracy: 0.9263 - val_loss: 0.2780 - val_accuracy: 0.8905\n",
            "Epoch 4/15\n",
            "30/30 [==============================] - 1s 34ms/step - loss: 0.1752 - accuracy: 0.9432 - val_loss: 0.2752 - val_accuracy: 0.8899\n",
            "Epoch 5/15\n",
            "30/30 [==============================] - 1s 34ms/step - loss: 0.1382 - accuracy: 0.9578 - val_loss: 0.3390 - val_accuracy: 0.8681\n",
            "Epoch 6/15\n",
            "30/30 [==============================] - 1s 33ms/step - loss: 0.1151 - accuracy: 0.9657 - val_loss: 0.3010 - val_accuracy: 0.8840\n",
            "Epoch 7/15\n",
            "30/30 [==============================] - 1s 33ms/step - loss: 0.0940 - accuracy: 0.9731 - val_loss: 0.3515 - val_accuracy: 0.8751\n",
            "Epoch 8/15\n",
            "30/30 [==============================] - 1s 34ms/step - loss: 0.0754 - accuracy: 0.9803 - val_loss: 0.3357 - val_accuracy: 0.8815\n",
            "Epoch 9/15\n",
            "30/30 [==============================] - 1s 33ms/step - loss: 0.0622 - accuracy: 0.9837 - val_loss: 0.3588 - val_accuracy: 0.8788\n",
            "Epoch 10/15\n",
            "30/30 [==============================] - 1s 33ms/step - loss: 0.0510 - accuracy: 0.9868 - val_loss: 0.4221 - val_accuracy: 0.8663\n",
            "Epoch 11/15\n",
            "30/30 [==============================] - 1s 34ms/step - loss: 0.0412 - accuracy: 0.9905 - val_loss: 0.4193 - val_accuracy: 0.8743\n",
            "Epoch 12/15\n",
            "30/30 [==============================] - 1s 34ms/step - loss: 0.0323 - accuracy: 0.9933 - val_loss: 0.4598 - val_accuracy: 0.8721\n",
            "Epoch 13/15\n",
            "30/30 [==============================] - 1s 34ms/step - loss: 0.0250 - accuracy: 0.9957 - val_loss: 0.4711 - val_accuracy: 0.8737\n",
            "Epoch 14/15\n",
            "30/30 [==============================] - 1s 34ms/step - loss: 0.0191 - accuracy: 0.9974 - val_loss: 0.5149 - val_accuracy: 0.8717\n",
            "Epoch 15/15\n",
            "30/30 [==============================] - 1s 34ms/step - loss: 0.0190 - accuracy: 0.9959 - val_loss: 0.5373 - val_accuracy: 0.8696\n"
          ],
          "name": "stdout"
        }
      ]
    },
    {
      "cell_type": "code",
      "metadata": {
        "id": "88qQt2Dl03Zy",
        "colab_type": "code",
        "colab": {}
      },
      "source": [
        "history_dict = history.history"
      ],
      "execution_count": null,
      "outputs": []
    },
    {
      "cell_type": "code",
      "metadata": {
        "id": "Ihi4m9P_1TIw",
        "colab_type": "code",
        "colab": {
          "base_uri": "https://localhost:8080/",
          "height": 34
        },
        "outputId": "b1a71465-448f-43f6-e6af-715bea698f59"
      },
      "source": [
        "history_dict.keys()"
      ],
      "execution_count": null,
      "outputs": [
        {
          "output_type": "execute_result",
          "data": {
            "text/plain": [
              "dict_keys(['loss', 'accuracy', 'val_loss', 'val_accuracy'])"
            ]
          },
          "metadata": {
            "tags": []
          },
          "execution_count": 20
        }
      ]
    },
    {
      "cell_type": "code",
      "metadata": {
        "id": "6Uqve--l1U8y",
        "colab_type": "code",
        "colab": {}
      },
      "source": [
        "acc = history_dict[\"accuracy\"]\n",
        "val_acc = history_dict[\"val_accuracy\"]\n",
        "loss = history_dict[\"loss\"]\n",
        "val_loss = history_dict[\"val_loss\"]"
      ],
      "execution_count": null,
      "outputs": []
    },
    {
      "cell_type": "code",
      "metadata": {
        "id": "LF2h1X411aqQ",
        "colab_type": "code",
        "colab": {
          "base_uri": "https://localhost:8080/",
          "height": 281
        },
        "outputId": "a1ffc7c4-757b-4ce2-e68d-551b04e1b1fb"
      },
      "source": [
        "epoch = range(1,len(acc)+1)\n",
        "plt.plot( epoch, loss, \"bo\",label = \"Training loss\")\n",
        "plt.plot(epoch , val_loss, \"--\",label = \"Validation loss\")\n",
        "plt.title(\"Train Loss vs Validation loss\")\n",
        "plt.legend()\n",
        "plt.show()"
      ],
      "execution_count": null,
      "outputs": [
        {
          "output_type": "display_data",
          "data": {
            "image/png": "[encoded data removed]",
            "text/plain": [
              "<Figure size 432x288 with 1 Axes>"
            ]
          },
          "metadata": {
            "tags": [],
            "needs_background": "light"
          }
        }
      ]
    },
    {
      "cell_type": "code",
      "metadata": {
        "id": "XkgsCAay2KOA",
        "colab_type": "code",
        "colab": {
          "base_uri": "https://localhost:8080/",
          "height": 118
        },
        "outputId": "12ca50e5-e95c-4ab5-ab1f-7df720221388"
      },
      "source": [
        "history = network.fit(x_partial_train,\n",
        "                      y_partial_train,\n",
        "                      epochs=3,\n",
        "                      batch_size=512,\n",
        "                      validation_data = (x_val,y_val))"
      ],
      "execution_count": null,
      "outputs": [
        {
          "output_type": "stream",
          "text": [
            "Epoch 1/3\n",
            "30/30 [==============================] - 1s 47ms/step - loss: 0.0087 - accuracy: 0.9996 - val_loss: 0.5682 - val_accuracy: 0.8682\n",
            "Epoch 2/3\n",
            "30/30 [==============================] - 1s 48ms/step - loss: 0.0127 - accuracy: 0.9975 - val_loss: 0.5962 - val_accuracy: 0.8681\n",
            "Epoch 3/3\n",
            "30/30 [==============================] - 1s 41ms/step - loss: 0.0052 - accuracy: 0.9998 - val_loss: 0.6297 - val_accuracy: 0.8663\n"
          ],
          "name": "stdout"
        }
      ]
    },
    {
      "cell_type": "code",
      "metadata": {
        "id": "mBAaCdcv2dK7",
        "colab_type": "code",
        "colab": {
          "base_uri": "https://localhost:8080/",
          "height": 34
        },
        "outputId": "0c6cd669-f77b-4bf8-8295-6e956fe04f17"
      },
      "source": [
        "results = network.evaluate(X_test,test_labels)"
      ],
      "execution_count": null,
      "outputs": [
        {
          "output_type": "stream",
          "text": [
            "782/782 [==============================] - 1s 1ms/step - loss: 0.6853 - accuracy: 0.8527\n"
          ],
          "name": "stdout"
        }
      ]
    },
    {
      "cell_type": "code",
      "metadata": {
        "id": "MK74UR9V2sRJ",
        "colab_type": "code",
        "colab": {}
      },
      "source": [
        ""
      ],
      "execution_count": null,
      "outputs": []
    }
  ]
}
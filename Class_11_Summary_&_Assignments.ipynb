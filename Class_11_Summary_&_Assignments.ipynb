{
  "nbformat": 4,
  "nbformat_minor": 0,
  "metadata": {
    "colab": {
      "name": "Class 11 - Summary & Assignments.ipynb",
      "provenance": [],
      "collapsed_sections": [],
      "authorship_tag": "ABX9TyOSn8huVIA7yBiecEu3uR9l",
      "include_colab_link": true
    },
    "kernelspec": {
      "name": "python3",
      "display_name": "Python 3"
    }
  },
  "cells": [
    {
      "cell_type": "markdown",
      "metadata": {
        "id": "view-in-github",
        "colab_type": "text"
      },
      "source": [
        "<a href=\"https://colab.research.google.com/github/manifoldailearning/Deep-Learning-2020/blob/master/Class_11_Summary_%26_Assignments.ipynb\" target=\"_parent\"><img src=\"https://colab.research.google.com/assets/colab-badge.svg\" alt=\"Open In Colab\"/></a>"
      ]
    },
    {
      "cell_type": "markdown",
      "metadata": {
        "id": "82YUmuuOpkxu",
        "colab_type": "text"
      },
      "source": [
        "Watch the Video at: https://youtu.be/uGQ8J8Gg-N4"
      ]
    },
    {
      "cell_type": "markdown",
      "metadata": {
        "id": "5ikHOmbglaiX",
        "colab_type": "text"
      },
      "source": [
        "# Assignments for Deep Learning 2020 presented on Youtube - by ManifoldAILearning\n",
        "\n",
        "Reach us at: support@manifoldailearning.in \n",
        "\n",
        "Follow us on Youtube at: www.youtube.com/manifoldailearning\n"
      ]
    },
    {
      "cell_type": "markdown",
      "metadata": {
        "id": "d-mLcRzdlq11",
        "colab_type": "text"
      },
      "source": [
        "### Assignment 1:\n",
        "\n",
        "Use the Fashion MNIST data to perform the Multi Class Classification task using Deep Neural Networks\n",
        "\n",
        "You can refer to below cell for loading the data\n",
        "\n",
        "Learn mode the data by clicking [here](https://research.zalando.com/welcome/mission/research-projects/fashion-mnist/)\n",
        "\n",
        "\n",
        "Layer Architecture as below\n",
        "\n",
        "```\n",
        "1st Layer --> Dense layer - 64 Neurons - Relu Activation\n",
        "2nd Layer --> Dense layer - 32 Neurons - Relu Activation\n",
        "3rd layer --> Dense layer - 10 Neurons - Softmax Activation\n",
        "```\n",
        "\n",
        "### Report the following details:\n",
        "1. Accuracy Reached on Training data & Validation data\n",
        "2. Epoch at which Maximum Acciracy\n",
        "3. Accuracy on Test data\n",
        "\n",
        "\n",
        "\n",
        "\n",
        "\n"
      ]
    },
    {
      "cell_type": "code",
      "metadata": {
        "id": "ftzzXHDplqk_",
        "colab_type": "code",
        "colab": {}
      },
      "source": [
        "#load the data\n",
        "import tensorflow as tf\n",
        "from tensorflow.keras.datasets import fashion_mnist\n",
        "(train_images, train_labels), (test_images, test_labels) = fashion_mnist.load_data()"
      ],
      "execution_count": null,
      "outputs": []
    },
    {
      "cell_type": "code",
      "metadata": {
        "id": "bISexh1VlX1X",
        "colab_type": "code",
        "colab": {}
      },
      "source": [
        ""
      ],
      "execution_count": null,
      "outputs": []
    },
    {
      "cell_type": "code",
      "metadata": {
        "id": "N6u3JPnSnMpF",
        "colab_type": "code",
        "colab": {}
      },
      "source": [
        ""
      ],
      "execution_count": null,
      "outputs": []
    },
    {
      "cell_type": "markdown",
      "metadata": {
        "colab_type": "text",
        "id": "fVHBmUPCnOHL"
      },
      "source": [
        "### Assignment 2:\n",
        "\n",
        "Use the Breast Cancer dataset to perform the Binary  Classification task using Deep Neural Networks\n",
        "\n",
        "You can refer to below cell for loading the data.\n",
        "\n",
        "\n",
        "Layer Architecture as below\n",
        "\n",
        "```\n",
        "1st Layer --> Dense layer - 64 Neurons - Relu Activation\n",
        "2nd Layer --> Dense layer - 32 Neurons - Relu Activation\n",
        "3rd layer --> Dense layer - 2 Neurons (Use Activation as suited for output data)\n",
        "```\n",
        "\n",
        "### Report the following details:\n",
        "1. Accuracy Reached on Training data & Validation data\n",
        "2. Epoch at which Maximum Acciracy\n",
        "3. Accuracy on Test data\n",
        "\n",
        "\n",
        "\n",
        "\n",
        "\n"
      ]
    },
    {
      "cell_type": "code",
      "metadata": {
        "id": "g2MEdBXCnppN",
        "colab_type": "code",
        "colab": {}
      },
      "source": [
        "#load the data\n",
        "from sklearn.datasets import load_breast_cancer\n",
        "cancer = load_breast_cancer()"
      ],
      "execution_count": 1,
      "outputs": []
    },
    {
      "cell_type": "markdown",
      "metadata": {
        "id": "NsKgrjZuoAX1",
        "colab_type": "text"
      },
      "source": [
        "More about the data is found at: \n",
        "https://scikit-learn.org/stable/modules/generated/sklearn.datasets.load_breast_cancer.html"
      ]
    },
    {
      "cell_type": "code",
      "metadata": {
        "id": "QvdDg0ABn_2X",
        "colab_type": "code",
        "colab": {}
      },
      "source": [
        ""
      ],
      "execution_count": null,
      "outputs": []
    },
    {
      "cell_type": "markdown",
      "metadata": {
        "id": "YXOXjyrvoFwy",
        "colab_type": "text"
      },
      "source": [
        "### Assignment 3:\n",
        "\n",
        "Use the sklearn make_regression dataset createda as below to perform the Regression task using Deep Neural Networks\n",
        "\n",
        "You can refer to below cell for loading the data.\n",
        "\n",
        "\n",
        "Layer Architecture as below\n",
        "\n",
        "```\n",
        "1st Layer --> Dense layer - 64 Neurons - Relu Activation\n",
        "2nd Layer --> Dense layer - 32 Neurons - Relu Activation\n",
        "3rd layer --> Dense layer - 1\n",
        "```\n",
        "\n",
        "### Report the following details:\n",
        "1. Accuracy Reached on Training data & Validation data\n",
        "2. Epoch at which Maximum Acciracy\n",
        "3. Accuracy on Test data\n",
        "\n",
        "\n",
        "\n",
        "\n"
      ]
    },
    {
      "cell_type": "code",
      "metadata": {
        "id": "fCsu_kO3or6N",
        "colab_type": "code",
        "colab": {}
      },
      "source": [
        "from sklearn.datasets import make_regression"
      ],
      "execution_count": 2,
      "outputs": []
    },
    {
      "cell_type": "code",
      "metadata": {
        "id": "fwWS0jyOow0X",
        "colab_type": "code",
        "colab": {}
      },
      "source": [
        "X,y = make_regression(n_samples=500,n_features=15,bias = 2 , noise = 0.2, random_state=42)"
      ],
      "execution_count": 6,
      "outputs": []
    },
    {
      "cell_type": "code",
      "metadata": {
        "id": "Ul23Jd8mpKfG",
        "colab_type": "code",
        "colab": {}
      },
      "source": [
        "#X --> input\n",
        "#y --> Target"
      ],
      "execution_count": 4,
      "outputs": []
    },
    {
      "cell_type": "code",
      "metadata": {
        "id": "73UavAu8pLOM",
        "colab_type": "code",
        "colab": {}
      },
      "source": [
        ""
      ],
      "execution_count": null,
      "outputs": []
    }
  ]
}